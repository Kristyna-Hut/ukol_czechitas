{
 "cells": [
  {
   "cell_type": "code",
   "execution_count": 31,
   "id": "a047a928",
   "metadata": {},
   "outputs": [],
   "source": [
    "import json\n",
    "import pandas as pd\n",
    "\n",
    "netflix = pd.read_table(\"netflix_titles.tsv\", sep='\\t', encoding=\"utf-8\")"
   ]
  },
  {
   "cell_type": "code",
   "execution_count": 32,
   "id": "7435a594",
   "metadata": {},
   "outputs": [],
   "source": [
    "netflix[\"dekada\"] = (netflix['STARTYEAR'] // 10 * 10)"
   ]
  },
  {
   "cell_type": "code",
   "execution_count": 33,
   "id": "02332d00",
   "metadata": {},
   "outputs": [],
   "source": [
    "sloupce = [\"PRIMARYTITLE\", \"DIRECTOR\", \"CAST\", \"GENRES\", \"dekada\"]\n",
    "nove_nazvy = {\n",
    "    \"PRIMARYTITLE\": \"title\", \n",
    "    \"DIRECTOR\": \"directors\", \n",
    "    \"CAST\": \"cast\", \n",
    "    \"GENRES\": \"genres\", \n",
    "    \"dekada\": \"decade\"\n",
    "    }\n",
    "\n",
    "netflix = netflix[sloupce].rename(columns=nove_nazvy)"
   ]
  },
  {
   "cell_type": "code",
   "execution_count": 34,
   "id": "8e6fc13d",
   "metadata": {},
   "outputs": [],
   "source": [
    "netflix_slovnik = netflix.to_dict(orient=\"records\")"
   ]
  },
  {
   "cell_type": "code",
   "execution_count": 35,
   "id": "b82dbb7a",
   "metadata": {},
   "outputs": [],
   "source": [
    "upravene = []\n",
    "\n",
    "for radek in netflix_slovnik:\n",
    "    novy = {}\n",
    "\n",
    "    novy[\"title\"] = radek[\"title\"]\n",
    "    novy[\"decade\"] = radek[\"decade\"]\n",
    "\n",
    "    if isinstance(radek[\"cast\"], str) and radek[\"cast\"].strip() != \"\":\n",
    "        novy[\"cast\"] = radek[\"cast\"].split(\",\")\n",
    "    else:\n",
    "        novy[\"cast\"] = []\n",
    "\n",
    "    if isinstance(radek[\"directors\"], str) and radek[\"directors\"].strip() != \"\":\n",
    "        novy[\"directors\"] = radek[\"directors\"].split(\",\")\n",
    "    else:\n",
    "        novy[\"directors\"] = []\n",
    "\n",
    "    if isinstance(radek[\"genres\"], str) and radek[\"genres\"].strip() != \"\":\n",
    "        novy[\"genres\"] = radek[\"genres\"].split(\",\")\n",
    "    else:\n",
    "        novy[\"genres\"] = []\n",
    "\n",
    "    upravene.append(novy)"
   ]
  },
  {
   "cell_type": "code",
   "execution_count": 36,
   "id": "f8c7d69d",
   "metadata": {},
   "outputs": [],
   "source": [
    "with open(\"ukol2.json\", mode=\"w\", encoding=\"utf-8\") as ukol2_json:\n",
    "    json.dump(upravene, ukol2_json, ensure_ascii=False, indent=4)"
   ]
  }
 ],
 "metadata": {
  "kernelspec": {
   "display_name": "Python 3",
   "language": "python",
   "name": "python3"
  },
  "language_info": {
   "codemirror_mode": {
    "name": "ipython",
    "version": 3
   },
   "file_extension": ".py",
   "mimetype": "text/x-python",
   "name": "python",
   "nbconvert_exporter": "python",
   "pygments_lexer": "ipython3",
   "version": "3.13.2"
  }
 },
 "nbformat": 4,
 "nbformat_minor": 5
}
